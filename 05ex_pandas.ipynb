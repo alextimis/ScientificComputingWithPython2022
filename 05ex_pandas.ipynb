{
 "cells": [
  {
   "cell_type": "markdown",
   "metadata": {},
   "source": [
    "1\\. **Pandas DataFrame**\n",
    "\n",
    "This exercise consists in analyzing a dataset containg timing information from a series of Time-to-Digital-Converters (TDC) implemented in a pair of FPGAs. Each measurement (i.e. each row of the input file) consists of a flag that specifies the type of message ('HEAD', which in this case is always 1), two addresses of the TDC providing the signal ('FPGA' and 'TDC_CHANNEL'), and the timing information ('ORBIT_CNT', 'BX_COUNTER', and 'TDC_MEAS'). Each TDC count corresponds to 25/30 ns, whereas a unit of BX_COUNTER corresponds to 25 ns, and the ORBIT_CNT is increased every `x` BX_COUNTER. This allows to store the time in a similar way to hours, minutes and seconds."
   ]
  },
  {
   "cell_type": "code",
   "execution_count": null,
   "metadata": {},
   "outputs": [],
   "source": [
    "# If haven't downloaded it yet, please get the data file with wget\n",
    "#!wget https://www.dropbox.com/s/xvjzaxzz3ysphme/data_000637.txt -P ./data/"
   ]
  },
  {
   "cell_type": "markdown",
   "metadata": {},
   "source": [
    "1\\. Create a Pandas DataFrame reading N rows of the `data/data_000637.txt` dataset. Choose N to be smaller than or equal to the maximum number of rows and larger that 10k (check the documentation)."
   ]
  },
  {
   "cell_type": "code",
   "execution_count": 1,
   "metadata": {},
   "outputs": [
    {
     "name": "stdout",
     "output_type": "stream",
     "text": [
      "Choose number of rows: 100000\n",
      "       HEAD  FPGA  TDC_CHANNEL   ORBIT_CNT  BX_COUNTER  TDC_MEAS\n",
      "0         1     0          123  3869200167        2374        26\n",
      "1         1     0          124  3869200167        2374        27\n",
      "2         1     0           63  3869200167        2553        28\n",
      "3         1     0           64  3869200167        2558        19\n",
      "4         1     0           64  3869200167        2760        25\n",
      "...     ...   ...          ...         ...         ...       ...\n",
      "99995     1     0           64  3869201161        2378        29\n",
      "99996     1     0           70  3869201161        2472        26\n",
      "99997     1     0           58  3869201161        2558         0\n",
      "99998     1     0           57  3869201161        2561        23\n",
      "99999     1     0           56  3869201161        2565        12\n",
      "\n",
      "[100000 rows x 6 columns]\n"
     ]
    }
   ],
   "source": [
    "import numpy as np\n",
    "import pandas as pd\n",
    "import matplotlib.pyplot as plt\n",
    "import datetime as dt\n",
    "\n",
    "file_name = \"data_000637.txt\"\n",
    "df = pd.read_csv(file_name)\n",
    "N = int(input(\"Choose number of rows: \"))\n",
    "if N < df.shape[0]+1 and N > 10000:\n",
    "    dataset = df[(df.index<N)]\n",
    "    print(dataset)\n",
    "else:\n",
    "    raise ValueError(\"Number of rows is too small or too big!!!\")"
   ]
  },
  {
   "cell_type": "markdown",
   "metadata": {},
   "source": [
    "2\\. Estimate the number of BX in a ORBIT (the value `x`).\n",
    "\n",
    "*Hint*: check when the BX counter reaches the maximum value before being reset to 0."
   ]
  },
  {
   "cell_type": "code",
   "execution_count": 2,
   "metadata": {},
   "outputs": [
    {
     "name": "stdout",
     "output_type": "stream",
     "text": [
      "The number of BX in an ORBIT is:  3564\n"
     ]
    }
   ],
   "source": [
    "numb_bx = dataset['BX_COUNTER'].max()+1\n",
    "print(\"The number of BX in an ORBIT is: \",numb_bx)"
   ]
  },
  {
   "cell_type": "markdown",
   "metadata": {},
   "source": [
    "3\\. Create a new column with the absolute time in ns (as a combination of the other three columns with timing information) since the beginning of the data acquisition, and convert the new column to a Time Series."
   ]
  },
  {
   "cell_type": "code",
   "execution_count": 3,
   "metadata": {},
   "outputs": [
    {
     "name": "stdout",
     "output_type": "stream",
     "text": [
      "My new dataframe is: \n",
      "          HEAD  FPGA  TDC_CHANNEL   ORBIT_CNT  BX_COUNTER  TDC_MEAS  \\\n",
      "0           1     0          123  3869200167        2374        26   \n",
      "1           1     0          124  3869200167        2374        27   \n",
      "2           1     0           63  3869200167        2553        28   \n",
      "3           1     0           64  3869200167        2558        19   \n",
      "4           1     0           64  3869200167        2760        25   \n",
      "...       ...   ...          ...         ...         ...       ...   \n",
      "1310715     1     0           62  3869211171         762        14   \n",
      "1310716     1     1            4  3869211171         763        11   \n",
      "1310717     1     0           64  3869211171         764         0   \n",
      "1310718     1     0          139  3869211171         769         0   \n",
      "1310719     1     0           61  3869211171         762        18   \n",
      "\n",
      "                 time  \n",
      "0        3.447457e+14  \n",
      "1        3.447457e+14  \n",
      "2        3.447457e+14  \n",
      "3        3.447457e+14  \n",
      "4        3.447457e+14  \n",
      "...               ...  \n",
      "1310715  3.447467e+14  \n",
      "1310716  3.447467e+14  \n",
      "1310717  3.447467e+14  \n",
      "1310718  3.447467e+14  \n",
      "1310719  3.447467e+14  \n",
      "\n",
      "[1310720 rows x 7 columns]\n",
      "My time series is: \n",
      " 0         1970-01-04 23:45:45.734939071\n",
      "1         1970-01-04 23:45:45.734939072\n",
      "2         1970-01-04 23:45:45.734943548\n",
      "3         1970-01-04 23:45:45.734943665\n",
      "4         1970-01-04 23:45:45.734948720\n",
      "                       ...             \n",
      "1310715   1970-01-04 23:45:46.715355161\n",
      "1310716   1970-01-04 23:45:46.715355184\n",
      "1310717   1970-01-04 23:45:46.715355200\n",
      "1310718   1970-01-04 23:45:46.715355325\n",
      "1310719   1970-01-04 23:45:46.715355165\n",
      "Name: time series, Length: 1310720, dtype: datetime64[ns]\n"
     ]
    }
   ],
   "source": [
    "df['time'] = (df['ORBIT_CNT']*numb_bx + df['BX_COUNTER'])*25+ df['TDC_MEAS']*25/30\n",
    "print(\"My new dataframe is: \\n\", df)\n",
    "df[\"time series\"] = pd.to_datetime(df[\"time\"])\n",
    "print(\"My time series is: \\n\",df[\"time series\"])"
   ]
  },
  {
   "cell_type": "markdown",
   "metadata": {},
   "source": [
    "4\\. Find out the duration of the data taking in hours, minutes and seconds, by using the features of the Time Series. Perform this check reading the whole dataset."
   ]
  },
  {
   "cell_type": "code",
   "execution_count": 4,
   "metadata": {},
   "outputs": [
    {
     "name": "stdout",
     "output_type": "stream",
     "text": [
      "\n",
      "The duration of the whole data taking:\n",
      " 0 days 00:00:00.980416254\n"
     ]
    }
   ],
   "source": [
    "df['DURATION_MEASUREMENT'] = pd.to_timedelta(df['time'])\n",
    "\n",
    "print(\"\\nThe duration of the whole data taking:\\n\", (df['DURATION_MEASUREMENT'].max() - df['DURATION_MEASUREMENT'].min()))"
   ]
  },
  {
   "cell_type": "markdown",
   "metadata": {},
   "source": [
    "5\\. Use the `.groupby()` method to find out the noisy channels, i.e. the TDC channels with most counts (print to screen the top 3 and the corresponding counts)"
   ]
  },
  {
   "cell_type": "code",
   "execution_count": 5,
   "metadata": {},
   "outputs": [
    {
     "name": "stdout",
     "output_type": "stream",
     "text": [
      "The 3 most noisy channels are:\n",
      "               HEAD\n",
      "TDC_CHANNEL      \n",
      "139          8320\n",
      "64           5027\n",
      "63           4917\n"
     ]
    }
   ],
   "source": [
    "channel = dataset[['HEAD','TDC_CHANNEL']].groupby(['TDC_CHANNEL']).count().sort_values(['HEAD'], ascending=False)\n",
    "print(\"The 3 most noisy channels are:\\n \",channel.head(3))"
   ]
  },
  {
   "cell_type": "markdown",
   "metadata": {},
   "source": [
    "6\\. Count the number of non-empty orbits (i.e. the number of orbits with at least one hit)."
   ]
  },
  {
   "cell_type": "code",
   "execution_count": 6,
   "metadata": {},
   "outputs": [
    {
     "name": "stdout",
     "output_type": "stream",
     "text": [
      "Number of non-empty orbits:  995\n"
     ]
    }
   ],
   "source": [
    "print(\"Number of non-empty orbits: \",len(dataset[\"ORBIT_CNT\"].unique()))"
   ]
  },
  {
   "cell_type": "markdown",
   "metadata": {},
   "source": [
    "7\\. Count the number of unique orbits with at least one measurement from TDC_CHANNEL=139."
   ]
  },
  {
   "cell_type": "code",
   "execution_count": 7,
   "metadata": {},
   "outputs": [
    {
     "name": "stdout",
     "output_type": "stream",
     "text": [
      "Number of unique orbits with at least one measurement from TDC_CHANNEL=139:  994\n"
     ]
    }
   ],
   "source": [
    "print(\"Number of unique orbits with at least one measurement from TDC_CHANNEL=139: \",len(dataset[dataset[\"TDC_CHANNEL\"] == 139][\"ORBIT_CNT\"].unique()))"
   ]
  },
  {
   "cell_type": "markdown",
   "metadata": {},
   "source": [
    "8\\. Create two Series (one for each FPGA) that have the TDC channel as index, and the number of counts for the corresponding TDC channel as values."
   ]
  },
  {
   "cell_type": "code",
   "execution_count": 8,
   "metadata": {},
   "outputs": [
    {
     "name": "stdout",
     "output_type": "stream",
     "text": [
      "Pandas series with FPGA = 0:\n",
      "  TDC_CHANNEL\n",
      "1        91\n",
      "2       109\n",
      "3       118\n",
      "4       148\n",
      "5       121\n",
      "       ... \n",
      "124    1312\n",
      "130       2\n",
      "137       2\n",
      "138       2\n",
      "139    5831\n",
      "Name: HEAD, Length: 121, dtype: int64\n",
      "\n",
      "Pandas series with FPGA = 1:\n",
      "  TDC_CHANNEL\n",
      "1      2116\n",
      "2      2444\n",
      "3      1670\n",
      "4      2014\n",
      "5      1151\n",
      "       ... \n",
      "129       2\n",
      "130       4\n",
      "137       2\n",
      "138       2\n",
      "139    2489\n",
      "Name: HEAD, Length: 132, dtype: int64\n"
     ]
    }
   ],
   "source": [
    "FPGA0 = dataset[dataset[\"FPGA\"] == 0].groupby(\"TDC_CHANNEL\")[\"HEAD\"].sum()\n",
    "FPGA1 = dataset[dataset[\"FPGA\"] == 1].groupby(\"TDC_CHANNEL\")[\"HEAD\"].sum()\n",
    "print(\"Pandas series with FPGA = 0:\\n \",FPGA0)\n",
    "print()\n",
    "print(\"Pandas series with FPGA = 1:\\n \",FPGA1)"
   ]
  },
  {
   "cell_type": "markdown",
   "metadata": {},
   "source": [
    "9\\. **Optional:** Create two histograms (one for each FPGA) that show the number of counts for each TDC channel."
   ]
  },
  {
   "cell_type": "code",
   "execution_count": 9,
   "metadata": {
    "scrolled": true
   },
   "outputs": [
    {
     "data": {
      "text/plain": [
       "[<matplotlib.axis.XTick at 0x29020ae3ac0>,\n",
       " <matplotlib.axis.XTick at 0x29020ae3a90>,\n",
       " <matplotlib.axis.XTick at 0x29020ae36d0>,\n",
       " <matplotlib.axis.XTick at 0x2901e098340>,\n",
       " <matplotlib.axis.XTick at 0x2901e098df0>,\n",
       " <matplotlib.axis.XTick at 0x2901e0998a0>,\n",
       " <matplotlib.axis.XTick at 0x2901e098640>,\n",
       " <matplotlib.axis.XTick at 0x2901e09a590>]"
      ]
     },
     "execution_count": 9,
     "metadata": {},
     "output_type": "execute_result"
    },
    {
     "data": {
      "image/png": "[encoded data removed]",
      "text/plain": [
       "<Figure size 800x400 with 2 Axes>"
      ]
     },
     "metadata": {},
     "output_type": "display_data"
    }
   ],
   "source": [
    "fig, (ax0, ax1) = plt.subplots(nrows=1, ncols=2, figsize=(8, 4))\n",
    "\n",
    "tdc0 = dataset[dataset['FPGA'] == 0]['TDC_CHANNEL']\n",
    "tdc1 = dataset[dataset['FPGA'] == 1]['TDC_CHANNEL']\n",
    "###########################################################\n",
    "ax0.hist(tdc0, bins=175, label=('TDC CHANNEL', 'COUNTS'))\n",
    "ax0.set_title('FPGA 0')\n",
    "ax0.set_xlabel('TDC CHANNEL')\n",
    "ax0.set_ylabel('COUNTS')\n",
    "ax0.set_xticks(np.arange(0,max(tdc1)+20,20.0))  \n",
    "############################################################\n",
    "ax1.hist(tdc1, bins=175, label=('TDC CHANNEL', 'COUNTS'),color='red')\n",
    "ax1.set_title('FPGA 1')\n",
    "ax1.set_xlabel('TDCCHANNEL')\n",
    "ax1.set_ylabel('COUNTS')\n",
    "ax1.yaxis.tick_right()\n",
    "ax1.set_xticks(np.arange(0,max(tdc1)+20,20.0)) "
   ]
  }
 ],
 "metadata": {
  "kernelspec": {
   "display_name": "Python 3 (ipykernel)",
   "language": "python",
   "name": "python3"
  },
  "language_info": {
   "codemirror_mode": {
    "name": "ipython",
    "version": 3
   },
   "file_extension": ".py",
   "mimetype": "text/x-python",
   "name": "python",
   "nbconvert_exporter": "python",
   "pygments_lexer": "ipython3",
   "version": "3.10.8"
  }
 },
 "nbformat": 4,
 "nbformat_minor": 2
}
